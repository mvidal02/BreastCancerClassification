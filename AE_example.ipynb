{
 "cells": [
  {
   "cell_type": "markdown",
   "metadata": {},
   "source": [
    "# Example of genomic data for dimensionality reduction"
   ]
  },
  {
   "cell_type": "markdown",
   "metadata": {},
   "source": [
    "This notebook demonstrates how deep learning algorithms are used for dimensionality reduction of genomic data in order to automatically cluster cells. We used 4,645 cell samples from 19 patients corresponding to expression profiling by high throughput sequencing as single cell RNA-seq of melanoma tumors. This data is publicly available at the Gene Expression Omnibus repository with the GEO accession number [GSE72056](https://www.ncbi.nlm.nih.gov/geo/query/acc.cgi?acc=GSE72056)."
   ]
  },
  {
   "cell_type": "markdown",
   "metadata": {},
   "source": [
    "## Step 1: Import libraries\n",
    "\n",
    "The selected framework in this example is [Pytorch](https://pytorch.org/), for this reason we import its components and set the datetime module."
   ]
  },
  {
   "cell_type": "code",
   "execution_count": 1,
   "metadata": {},
   "outputs": [
    {
     "name": "stdout",
     "output_type": "stream",
     "text": [
      "selected:  cpu\n"
     ]
    }
   ],
   "source": [
    "#Import libraries\n",
    "import torch\n",
    "import os\n",
    "import time\n",
    "from datetime import datetime\n",
    "from pytz import timezone\n",
    "import copy\n",
    "import torchvision\n",
    "import torch.nn as nn\n",
    "import torch.optim as optim \n",
    "from torchvision import datasets, models, transforms\n",
    "from torch.optim import lr_scheduler\n",
    "import matplotlib.pyplot as plt\n",
    "import numpy as np\n",
    "import pandas as pd\n",
    "my_timezone = timezone('Chile/Continental')\n",
    "from sklearn.model_selection import train_test_split\n",
    "from torch.utils.data import DataLoader\n",
    "from ae.train import TrainerAE\n",
    "from sklearn.manifold import TSNE\n",
    "from sklearn.cluster import KMeans, AgglomerativeClustering\n",
    "from sklearn.metrics import silhouette_score\n",
    "\n",
    "#Training on GPU if it is available\n",
    "device = torch.device(\"cuda\" if torch.cuda.is_available() else \"cpu\")\n",
    "print(\"selected: \",device)"
   ]
  },
  {
   "cell_type": "markdown",
   "metadata": {},
   "source": [
    "## Step 2: Define constants"
   ]
  },
  {
   "cell_type": "code",
   "execution_count": 2,
   "metadata": {},
   "outputs": [],
   "source": [
    "#Arguments\n",
    "class Args:\n",
    "    batch_size = 128\n",
    "    num_epochs = 5000\n",
    "    lr = 1e-5 #learning rate\n",
    "    patience = 200\n",
    "    latent_dim = 32\n",
    "    in_dim = 23686 #dimension\n",
    "\n",
    "args = Args()"
   ]
  },
  {
   "cell_type": "code",
   "execution_count": 3,
   "metadata": {},
   "outputs": [],
   "source": [
    "#Dataset class\n",
    "class CustomDataLoader(object):\n",
    "    def __init__(self, data, ids):\n",
    "        self.data = data\n",
    "        self.ids = ids\n",
    "    \n",
    "    def __len__(self):\n",
    "        return self.data.shape[0]\n",
    "    \n",
    "    def __getitem__(self, index):\n",
    "        return self.data[index], self.ids[index]"
   ]
  },
  {
   "cell_type": "code",
   "execution_count": 4,
   "metadata": {},
   "outputs": [],
   "source": [
    "#Build and return the train and test dataloaders\n",
    "def get_data(path, batch_size):\n",
    "    data = pd.read_csv(path, sep='\\t', index_col=0).T\n",
    "    ids = data.index.values\n",
    "    \n",
    "    #splitting train and test sets into 80%/20% respectively.\n",
    "    x_train, x_test, ids_train, ids_test = train_test_split(data.values, ids, test_size=0.2, random_state=42)\n",
    "    \n",
    "    #generating dataloaders\n",
    "    dataloader_train = DataLoader(CustomDataLoader(x_train, ids_train), batch_size=batch_size, shuffle=True)\n",
    "    dataloader_test = DataLoader(CustomDataLoader(x_test, ids_test), batch_size=batch_size, shuffle=False)\n",
    "    return dataloader_train, dataloader_test"
   ]
  },
  {
   "cell_type": "markdown",
   "metadata": {},
   "source": [
    "## Step 3: Load data\n",
    "\n",
    "The input is a matrix file with the gene expression values for each cell."
   ]
  },
  {
   "cell_type": "code",
   "execution_count": 5,
   "metadata": {},
   "outputs": [],
   "source": [
    "dataloader_train, dataloader_test = get_data(path='input_GenomicExample.txt', batch_size=args.batch_size)"
   ]
  },
  {
   "cell_type": "markdown",
   "metadata": {},
   "source": [
    "## Step 4: Train the model\n",
    "\n",
    "We define the autoencoder network in the [ae folder](https://github.com/mvidal02/DLexamplesCancer/tree/master/ae). We train with three different optimizer (Adam, SGD and RMSprop) with two different learning rate (1e-3 and 1e-5)."
   ]
  },
  {
   "cell_type": "code",
   "execution_count": 6,
   "metadata": {},
   "outputs": [
    {
     "name": "stdout",
     "output_type": "stream",
     "text": [
      "Training Autoencoder... Epoch: 0, Loss: 1.807\n",
      "Testing Autoencoder... Epoch: 0, Loss: 1.79\n",
      "Training Autoencoder... Epoch: 50, Loss: 1.751\n",
      "Testing Autoencoder... Epoch: 50, Loss: 1.73\n",
      "Training Autoencoder... Epoch: 100, Loss: 1.684\n",
      "Testing Autoencoder... Epoch: 100, Loss: 1.68\n",
      "Training Autoencoder... Epoch: 150, Loss: 1.636\n",
      "Testing Autoencoder... Epoch: 150, Loss: 1.64\n",
      "Training Autoencoder... Epoch: 200, Loss: 1.597\n",
      "Testing Autoencoder... Epoch: 200, Loss: 1.61\n",
      "Training Autoencoder... Epoch: 250, Loss: 1.559\n",
      "Testing Autoencoder... Epoch: 250, Loss: 1.58\n",
      "Training Autoencoder... Epoch: 300, Loss: 1.534\n",
      "Testing Autoencoder... Epoch: 300, Loss: 1.55\n",
      "Training Autoencoder... Epoch: 350, Loss: 1.512\n",
      "Testing Autoencoder... Epoch: 350, Loss: 1.53\n",
      "Training Autoencoder... Epoch: 400, Loss: 1.488\n",
      "Testing Autoencoder... Epoch: 400, Loss: 1.51\n",
      "Training Autoencoder... Epoch: 450, Loss: 1.477\n",
      "Testing Autoencoder... Epoch: 450, Loss: 1.5\n",
      "Training Autoencoder... Epoch: 500, Loss: 1.462\n",
      "Testing Autoencoder... Epoch: 500, Loss: 1.48\n",
      "Training Autoencoder... Epoch: 550, Loss: 1.456\n",
      "Testing Autoencoder... Epoch: 550, Loss: 1.47\n",
      "Training Autoencoder... Epoch: 600, Loss: 1.448\n",
      "Testing Autoencoder... Epoch: 600, Loss: 1.46\n",
      "Training Autoencoder... Epoch: 650, Loss: 1.435\n",
      "Testing Autoencoder... Epoch: 650, Loss: 1.45\n",
      "Training Autoencoder... Epoch: 700, Loss: 1.432\n",
      "Testing Autoencoder... Epoch: 700, Loss: 1.44\n",
      "Training Autoencoder... Epoch: 750, Loss: 1.429\n",
      "Testing Autoencoder... Epoch: 750, Loss: 1.43\n",
      "Training Autoencoder... Epoch: 800, Loss: 1.422\n",
      "Testing Autoencoder... Epoch: 800, Loss: 1.43\n",
      "Training Autoencoder... Epoch: 850, Loss: 1.420\n",
      "Testing Autoencoder... Epoch: 850, Loss: 1.42\n",
      "Training Autoencoder... Epoch: 900, Loss: 1.414\n",
      "Testing Autoencoder... Epoch: 900, Loss: 1.42\n",
      "Training Autoencoder... Epoch: 950, Loss: 1.418\n",
      "Testing Autoencoder... Epoch: 950, Loss: 1.41\n",
      "Training Autoencoder... Epoch: 1000, Loss: 1.411\n",
      "Testing Autoencoder... Epoch: 1000, Loss: 1.41\n",
      "Training Autoencoder... Epoch: 1050, Loss: 1.412\n",
      "Testing Autoencoder... Epoch: 1050, Loss: 1.41\n",
      "Training Autoencoder... Epoch: 1100, Loss: 1.406\n",
      "Testing Autoencoder... Epoch: 1100, Loss: 1.4\n",
      "Training Autoencoder... Epoch: 1150, Loss: 1.405\n",
      "Testing Autoencoder... Epoch: 1150, Loss: 1.4\n",
      "Training Autoencoder... Epoch: 1200, Loss: 1.406\n",
      "Testing Autoencoder... Epoch: 1200, Loss: 1.4\n",
      "Training Autoencoder... Epoch: 1250, Loss: 1.401\n",
      "Testing Autoencoder... Epoch: 1250, Loss: 1.4\n",
      "Training Autoencoder... Epoch: 1300, Loss: 1.399\n",
      "Testing Autoencoder... Epoch: 1300, Loss: 1.39\n",
      "Training Autoencoder... Epoch: 1350, Loss: 1.399\n",
      "Testing Autoencoder... Epoch: 1350, Loss: 1.39\n",
      "Training Autoencoder... Epoch: 1400, Loss: 1.400\n",
      "Testing Autoencoder... Epoch: 1400, Loss: 1.39\n",
      "Training Autoencoder... Epoch: 1450, Loss: 1.400\n",
      "Testing Autoencoder... Epoch: 1450, Loss: 1.39\n",
      "Training Autoencoder... Epoch: 1500, Loss: 1.396\n",
      "Testing Autoencoder... Epoch: 1500, Loss: 1.39\n",
      "Training Autoencoder... Epoch: 1550, Loss: 1.393\n",
      "Testing Autoencoder... Epoch: 1550, Loss: 1.39\n",
      "Training Autoencoder... Epoch: 1600, Loss: 1.392\n",
      "Testing Autoencoder... Epoch: 1600, Loss: 1.39\n",
      "Training Autoencoder... Epoch: 1650, Loss: 1.393\n",
      "Testing Autoencoder... Epoch: 1650, Loss: 1.39\n",
      "Training Autoencoder... Epoch: 1700, Loss: 1.391\n",
      "Testing Autoencoder... Epoch: 1700, Loss: 1.39\n",
      "Training Autoencoder... Epoch: 1750, Loss: 1.392\n",
      "Testing Autoencoder... Epoch: 1750, Loss: 1.39\n",
      "Training Autoencoder... Epoch: 1800, Loss: 1.390\n",
      "Testing Autoencoder... Epoch: 1800, Loss: 1.38\n",
      "Training Autoencoder... Epoch: 1850, Loss: 1.390\n",
      "Testing Autoencoder... Epoch: 1850, Loss: 1.38\n",
      "Training Autoencoder... Epoch: 1900, Loss: 1.391\n",
      "Testing Autoencoder... Epoch: 1900, Loss: 1.38\n",
      "Training Autoencoder... Epoch: 1950, Loss: 1.389\n",
      "Testing Autoencoder... Epoch: 1950, Loss: 1.38\n",
      "Training Autoencoder... Epoch: 2000, Loss: 1.390\n",
      "Testing Autoencoder... Epoch: 2000, Loss: 1.38\n",
      "Training Autoencoder... Epoch: 2050, Loss: 1.386\n",
      "Testing Autoencoder... Epoch: 2050, Loss: 1.38\n",
      "Training Autoencoder... Epoch: 2100, Loss: 1.387\n",
      "Testing Autoencoder... Epoch: 2100, Loss: 1.38\n",
      "Training Autoencoder... Epoch: 2150, Loss: 1.387\n",
      "Testing Autoencoder... Epoch: 2150, Loss: 1.38\n",
      "Training Autoencoder... Epoch: 2200, Loss: 1.383\n",
      "Testing Autoencoder... Epoch: 2200, Loss: 1.38\n",
      "Training Autoencoder... Epoch: 2250, Loss: 1.389\n",
      "Testing Autoencoder... Epoch: 2250, Loss: 1.38\n",
      "Training Autoencoder... Epoch: 2300, Loss: 1.383\n",
      "Testing Autoencoder... Epoch: 2300, Loss: 1.38\n",
      "Training Autoencoder... Epoch: 2350, Loss: 1.383\n",
      "Testing Autoencoder... Epoch: 2350, Loss: 1.38\n",
      "Training Autoencoder... Epoch: 2400, Loss: 1.384\n",
      "Testing Autoencoder... Epoch: 2400, Loss: 1.38\n",
      "Training Autoencoder... Epoch: 2450, Loss: 1.385\n",
      "Testing Autoencoder... Epoch: 2450, Loss: 1.38\n",
      "Training Autoencoder... Epoch: 2500, Loss: 1.383\n",
      "Testing Autoencoder... Epoch: 2500, Loss: 1.38\n",
      "Training Autoencoder... Epoch: 2550, Loss: 1.386\n",
      "Testing Autoencoder... Epoch: 2550, Loss: 1.38\n",
      "Training Autoencoder... Epoch: 2600, Loss: 1.381\n",
      "Testing Autoencoder... Epoch: 2600, Loss: 1.38\n",
      "Training Autoencoder... Epoch: 2650, Loss: 1.381\n",
      "Testing Autoencoder... Epoch: 2650, Loss: 1.38\n",
      "Training Autoencoder... Epoch: 2700, Loss: 1.381\n",
      "Testing Autoencoder... Epoch: 2700, Loss: 1.38\n",
      "Training Autoencoder... Epoch: 2750, Loss: 1.383\n",
      "Testing Autoencoder... Epoch: 2750, Loss: 1.38\n",
      "Training Autoencoder... Epoch: 2800, Loss: 1.379\n",
      "Testing Autoencoder... Epoch: 2800, Loss: 1.38\n",
      "Training Autoencoder... Epoch: 2850, Loss: 1.382\n",
      "Testing Autoencoder... Epoch: 2850, Loss: 1.38\n",
      "Training Autoencoder... Epoch: 2900, Loss: 1.381\n",
      "Testing Autoencoder... Epoch: 2900, Loss: 1.38\n",
      "Training Autoencoder... Epoch: 2950, Loss: 1.381\n",
      "Testing Autoencoder... Epoch: 2950, Loss: 1.38\n",
      "Training Autoencoder... Epoch: 3000, Loss: 1.378\n",
      "Testing Autoencoder... Epoch: 3000, Loss: 1.38\n",
      "Training Autoencoder... Epoch: 3050, Loss: 1.383\n",
      "Testing Autoencoder... Epoch: 3050, Loss: 1.38\n",
      "Training Autoencoder... Epoch: 3100, Loss: 1.379\n",
      "Testing Autoencoder... Epoch: 3100, Loss: 1.38\n",
      "Training Autoencoder... Epoch: 3150, Loss: 1.379\n",
      "Testing Autoencoder... Epoch: 3150, Loss: 1.38\n",
      "Training Autoencoder... Epoch: 3200, Loss: 1.376\n",
      "Testing Autoencoder... Epoch: 3200, Loss: 1.38\n",
      "Training Autoencoder... Epoch: 3250, Loss: 1.375\n",
      "Testing Autoencoder... Epoch: 3250, Loss: 1.38\n",
      "Training Autoencoder... Epoch: 3300, Loss: 1.379\n",
      "Testing Autoencoder... Epoch: 3300, Loss: 1.38\n",
      "Training Autoencoder... Epoch: 3350, Loss: 1.379\n",
      "Testing Autoencoder... Epoch: 3350, Loss: 1.38\n",
      "Training Autoencoder... Epoch: 3400, Loss: 1.378\n",
      "Testing Autoencoder... Epoch: 3400, Loss: 1.38\n",
      "Training Autoencoder... Epoch: 3450, Loss: 1.374\n",
      "Testing Autoencoder... Epoch: 3450, Loss: 1.38\n",
      "Training Autoencoder... Epoch: 3500, Loss: 1.378\n",
      "Testing Autoencoder... Epoch: 3500, Loss: 1.38\n",
      "Training Autoencoder... Epoch: 3550, Loss: 1.376\n",
      "Testing Autoencoder... Epoch: 3550, Loss: 1.38\n",
      "Training Autoencoder... Epoch: 3600, Loss: 1.377\n",
      "Testing Autoencoder... Epoch: 3600, Loss: 1.38\n",
      "Time elapsed: 40.94 min\n",
      "Training complete in 40m 56s\n"
     ]
    }
   ],
   "source": [
    "#measure time\n",
    "start_time = time.time()\n",
    "since = time.time()\n",
    "\n",
    "#call autoencoder class and train data\n",
    "ae = TrainerAE(args, dataloader_train, dataloader_test, device)\n",
    "ae.train()\n",
    "ae.load_weights()\n",
    "\n",
    "#show time elapsed\n",
    "print('Time elapsed: %.2f min' % ((time.time() - start_time)/60))\n",
    "        \n",
    "time_elapsed = time.time() - since\n",
    "print('Training complete in {:.0f}m {:.0f}s'.format(time_elapsed // 60, time_elapsed % 60))"
   ]
  },
  {
   "cell_type": "markdown",
   "metadata": {},
   "source": [
    "## Step 5: Evaluate the model"
   ]
  },
  {
   "cell_type": "code",
   "execution_count": 7,
   "metadata": {},
   "outputs": [
    {
     "data": {
      "image/png": "[encoded data removed]",
      "text/plain": [
       "<Figure size 432x288 with 1 Axes>"
      ]
     },
     "metadata": {
      "needs_background": "light"
     },
     "output_type": "display_data"
    }
   ],
   "source": [
    "#Funtion to visualize the autoencoder reconstruction\n",
    "def plot_loss(values, values_t, metric):\n",
    "    plt.plot(np.arange(len(values)), values, label='train')\n",
    "    plt.plot(np.arange(len(values_t)), values_t, label='validation')\n",
    "    plt.title('Autoencoder {}'.format(metric))\n",
    "    plt.ylabel(metric)\n",
    "    plt.xlabel('Epoch')\n",
    "    plt.legend(loc='best')\n",
    "\n",
    "plot_loss(np.array(ae.reconst), np.array(ae.reconst_t), 'Reconstruction')"
   ]
  },
  {
   "cell_type": "markdown",
   "metadata": {},
   "source": [
    "## Step 6: Visualize cell clustering"
   ]
  },
  {
   "cell_type": "code",
   "execution_count": 8,
   "metadata": {},
   "outputs": [],
   "source": [
    "#Function for latent space visualization\n",
    "def plot_latent_space(x_embedded, labels):\n",
    "    plt.figure(figsize=(8,6))\n",
    "    for label in np.unique(labels):\n",
    "        plt.scatter(x_embedded[:, 0][labels==label], x_embedded[:, 1][labels==label], s=100, marker='.', label=label+1)\n",
    "    plt.legend()\n",
    "    plt.show()"
   ]
  },
  {
   "cell_type": "code",
   "execution_count": 9,
   "metadata": {},
   "outputs": [],
   "source": [
    "ae.model.eval()\n",
    "latent = []\n",
    "for x, id_ in dataloader_train:\n",
    "    x = x.float().to(device)\n",
    "    z = ae.model.encode(x)\n",
    "    latent.append(z.cpu().detach())\n",
    "\n",
    "latent = torch.cat(latent)"
   ]
  },
  {
   "cell_type": "code",
   "execution_count": 10,
   "metadata": {},
   "outputs": [
    {
     "data": {
      "image/png": "[encoded data removed]",
      "text/plain": [
       "<Figure size 576x432 with 1 Axes>"
      ]
     },
     "metadata": {
      "needs_background": "light"
     },
     "output_type": "display_data"
    }
   ],
   "source": [
    "#we further reduced the dimensionality to 2 using t-SNE and agglomerative clustering to visualize the results\n",
    "s_scores = []\n",
    "c_labels = []\n",
    "embeds = []\n",
    "\n",
    "labels = AgglomerativeClustering(n_clusters=6, connectivity=None).fit_predict(latent)\n",
    "x_embedded = TSNE(n_components=2).fit_transform(latent)\n",
    "plot_latent_space(x_embedded, labels)\n",
    "c_labels.append(labels)\n",
    "embeds.append(x_embedded)"
   ]
  }
 ],
 "metadata": {
  "kernelspec": {
   "display_name": "Python 3",
   "language": "python",
   "name": "python3"
  },
  "language_info": {
   "codemirror_mode": {
    "name": "ipython",
    "version": 3
   },
   "file_extension": ".py",
   "mimetype": "text/x-python",
   "name": "python",
   "nbconvert_exporter": "python",
   "pygments_lexer": "ipython3",
   "version": "3.8.5"
  }
 },
 "nbformat": 4,
 "nbformat_minor": 2
}
